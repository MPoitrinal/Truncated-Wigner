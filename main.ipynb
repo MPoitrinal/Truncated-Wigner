{
 "cells": [
  {
   "cell_type": "code",
   "execution_count": 1,
   "metadata": {},
   "outputs": [],
   "source": [
    "from lib import compute_spin_dynamics\n",
    "import numpy as np"
   ]
  },
  {
   "cell_type": "code",
   "execution_count": 2,
   "metadata": {},
   "outputs": [
    {
     "name": "stdout",
     "output_type": "stream",
     "text": [
      "[0.70710678+0.j         0.        +0.70710678j 0.        +0.j        ]\n",
      "[0.70710678+0.j         0.        +0.70710678j 0.        +0.j        ]\n",
      "J matrix and Gamma matrix are computed\n"
     ]
    },
    {
     "name": "stderr",
     "output_type": "stream",
     "text": [
      "Running simulations:   0%|          | 0/10000 [00:00<?, ?it/s]/Users/martinpoitrinsl/Documents/GitHub/Truncated-Wigner/lib.py:238: ComplexWarning: Casting complex values to real discards the imaginary part\n",
      "  xi_x[i] = np.sum(nu[i, :] * noise_x)\n",
      "/Users/martinpoitrinsl/Documents/GitHub/Truncated-Wigner/lib.py:239: ComplexWarning: Casting complex values to real discards the imaginary part\n",
      "  xi_y[i] = np.sum(nu[i, :] * noise_y)\n",
      "/Users/martinpoitrinsl/Documents/GitHub/Truncated-Wigner/lib.py:50: RuntimeWarning: overflow encountered in multiply\n",
      "  derivatives += s_z * j_sum\n",
      "/Users/martinpoitrinsl/Documents/GitHub/Truncated-Wigner/lib.py:51: RuntimeWarning: overflow encountered in multiply\n",
      "  derivatives += 0.5 * s_z * gamma_sum\n",
      "/Users/martinpoitrinsl/Documents/GitHub/Truncated-Wigner/lib.py:51: RuntimeWarning: invalid value encountered in add\n",
      "  derivatives += 0.5 * s_z * gamma_sum\n",
      "/Users/martinpoitrinsl/Documents/GitHub/Truncated-Wigner/lib.py:97: RuntimeWarning: overflow encountered in multiply\n",
      "  derivatives -= s_z * j_sum\n",
      "/Users/martinpoitrinsl/Documents/GitHub/Truncated-Wigner/lib.py:98: RuntimeWarning: overflow encountered in multiply\n",
      "  derivatives += 0.5 * s_z * gamma_sum\n",
      "/Users/martinpoitrinsl/Documents/GitHub/Truncated-Wigner/lib.py:98: RuntimeWarning: invalid value encountered in add\n",
      "  derivatives += 0.5 * s_z * gamma_sum\n",
      "/Users/martinpoitrinsl/Documents/GitHub/Truncated-Wigner/lib.py:140: RuntimeWarning: overflow encountered in multiply\n",
      "  sy_sx_product = s_y_outer * s_x_outer  # Shape (n, n)\n",
      "/Users/martinpoitrinsl/Documents/GitHub/Truncated-Wigner/lib.py:148: RuntimeWarning: overflow encountered in multiply\n",
      "  sx_sy_product = s_x[:, np.newaxis] * s_y[np.newaxis, :]  # Shape (n, n)\n",
      "/Users/martinpoitrinsl/Documents/GitHub/Truncated-Wigner/lib.py:157: RuntimeWarning: invalid value encountered in subtract\n",
      "  j_term = np.sum(J * (sy_sx_product - sx_sy_product), axis=1)\n",
      "/Users/martinpoitrinsl/Documents/GitHub/Truncated-Wigner/lib.py:157: RuntimeWarning: invalid value encountered in multiply\n",
      "  j_term = np.sum(J * (sy_sx_product - sx_sy_product), axis=1)\n",
      "/Library/Frameworks/Python.framework/Versions/3.13/lib/python3.13/site-packages/numpy/core/fromnumeric.py:88: RuntimeWarning: invalid value encountered in reduce\n",
      "  return ufunc.reduce(obj, axis, dtype, out, **passkwargs)\n",
      "/Users/martinpoitrinsl/Documents/GitHub/Truncated-Wigner/lib.py:162: RuntimeWarning: overflow encountered in multiply\n",
      "  sx_sx_product = s_x[:, np.newaxis] * s_x[np.newaxis, :]  # Shape (n, n)\n",
      "/Users/martinpoitrinsl/Documents/GitHub/Truncated-Wigner/lib.py:163: RuntimeWarning: overflow encountered in multiply\n",
      "  sy_sy_product = s_y[:, np.newaxis] * s_y[np.newaxis, :]  # Shape (n, n)\n",
      "/Users/martinpoitrinsl/Documents/GitHub/Truncated-Wigner/lib.py:165: RuntimeWarning: invalid value encountered in add\n",
      "  intermed = sx_sx_product+sy_sy_product\n",
      "/Users/martinpoitrinsl/Documents/GitHub/Truncated-Wigner/lib.py:168: RuntimeWarning: invalid value encountered in multiply\n",
      "  gamma_term = 0.5 * np.sum(Gamma * (intermed), axis=1)\n",
      "/Users/martinpoitrinsl/Documents/GitHub/Truncated-Wigner/lib.py:37: RuntimeWarning: invalid value encountered in multiply\n",
      "  derivatives = -2 * omega_z * s_y\n",
      "/Users/martinpoitrinsl/Documents/GitHub/Truncated-Wigner/lib.py:41: RuntimeWarning: invalid value encountered in matmul\n",
      "  j_sum = J @ s_y\n",
      "/Users/martinpoitrinsl/Documents/GitHub/Truncated-Wigner/lib.py:46: RuntimeWarning: invalid value encountered in matmul\n",
      "  gamma_sum = Gamma @ s_x\n",
      "/Users/martinpoitrinsl/Documents/GitHub/Truncated-Wigner/lib.py:81: RuntimeWarning: invalid value encountered in multiply\n",
      "  derivatives = 2 * omega_z * s_x\n",
      "/Users/martinpoitrinsl/Documents/GitHub/Truncated-Wigner/lib.py:88: RuntimeWarning: invalid value encountered in matmul\n",
      "  j_sum = J @ s_x\n",
      "/Users/martinpoitrinsl/Documents/GitHub/Truncated-Wigner/lib.py:93: RuntimeWarning: invalid value encountered in matmul\n",
      "  gamma_sum = Gamma @ s_y\n",
      "/Users/martinpoitrinsl/Documents/GitHub/Truncated-Wigner/lib.py:128: RuntimeWarning: invalid value encountered in multiply\n",
      "  derivatives = 2 * Omega * s_y\n",
      "Running simulations:   8%|▊         | 821/10000 [01:16<14:12, 10.77it/s]\n"
     ]
    },
    {
     "ename": "KeyboardInterrupt",
     "evalue": "",
     "output_type": "error",
     "traceback": [
      "\u001b[31m---------------------------------------------------------------------------\u001b[39m",
      "\u001b[31mKeyboardInterrupt\u001b[39m                         Traceback (most recent call last)",
      "\u001b[36mCell\u001b[39m\u001b[36m \u001b[39m\u001b[32mIn[2]\u001b[39m\u001b[32m, line 17\u001b[39m\n\u001b[32m     14\u001b[39m \u001b[38;5;66;03m# Remove the comma-separated parameters at the top of the cell\u001b[39;00m\n\u001b[32m     15\u001b[39m \u001b[38;5;66;03m# and just keep the function call with proper parameters\u001b[39;00m\n\u001b[32m     16\u001b[39m \u001b[38;5;28mprint\u001b[39m(dipole_direction)\n\u001b[32m---> \u001b[39m\u001b[32m17\u001b[39m magnetizations_list = \u001b[43mcompute_spin_dynamics\u001b[49m\u001b[43m(\u001b[49m\u001b[43mnum_particles\u001b[49m\u001b[43m,\u001b[49m\n\u001b[32m     18\u001b[39m \u001b[43m                                            \u001b[49m\u001b[43mspacing_factor\u001b[49m\u001b[43m,\u001b[49m\n\u001b[32m     19\u001b[39m \u001b[43m                                            \u001b[49m\u001b[43mGamma_0\u001b[49m\u001b[43m,\u001b[49m\n\u001b[32m     20\u001b[39m \u001b[43m                                            \u001b[49m\u001b[43mt_max_factor\u001b[49m\u001b[43m,\u001b[49m\n\u001b[32m     21\u001b[39m \u001b[43m                                            \u001b[49m\u001b[43mnum_steps\u001b[49m\u001b[43m,\u001b[49m\n\u001b[32m     22\u001b[39m \u001b[43m                                            \u001b[49m\u001b[43momega_z\u001b[49m\u001b[43m,\u001b[49m\n\u001b[32m     23\u001b[39m \u001b[43m                                            \u001b[49m\u001b[43mOmega_Rabi\u001b[49m\u001b[43m,\u001b[49m\n\u001b[32m     24\u001b[39m \u001b[43m                                            \u001b[49m\u001b[43mnum_simulations\u001b[49m\u001b[43m,\u001b[49m\n\u001b[32m     25\u001b[39m \u001b[43m                                            \u001b[49m\u001b[43mdipole_direction\u001b[49m\u001b[43m,\u001b[49m\n\u001b[32m     26\u001b[39m \u001b[43m                                            \u001b[49m\u001b[43mlistNumparticles\u001b[49m\u001b[43m,\u001b[49m\u001b[43m \u001b[49m\n\u001b[32m     27\u001b[39m \u001b[43m                                            \u001b[49m\u001b[43matomic_dipole_moment\u001b[49m\u001b[43m)\u001b[49m\n",
      "\u001b[36mFile \u001b[39m\u001b[32m~/Documents/GitHub/Truncated-Wigner/lib.py:548\u001b[39m, in \u001b[36mcompute_spin_dynamics\u001b[39m\u001b[34m(num_particles, spacing_factor, Gamma_0, t_max_factor, num_steps, omega_z, Omega_Rabi, num_simulations, dipole_direction, listNumparticles, atomic_dipole_moment)\u001b[39m\n\u001b[32m    545\u001b[39m midpoint_state = current_state\n\u001b[32m    547\u001b[39m midpoint_state = current_state + dt * SpinDerivative(current_state, positions, omega,omega_z, Omega_Rabi, dipole, c, xi_y, xi_x,Gamma_matrix,J_matrix)\n\u001b[32m--> \u001b[39m\u001b[32m548\u001b[39m midpoint_derivative = \u001b[43mSpinDerivative\u001b[49m\u001b[43m(\u001b[49m\u001b[43m(\u001b[49m\u001b[43mmidpoint_state\u001b[49m\u001b[43m+\u001b[49m\u001b[43mcurrent_state\u001b[49m\u001b[43m)\u001b[49m\u001b[43m/\u001b[49m\u001b[32;43m2\u001b[39;49m\u001b[43m,\u001b[49m\u001b[43m \u001b[49m\u001b[43mpositions\u001b[49m\u001b[43m,\u001b[49m\u001b[43m \u001b[49m\u001b[43momega\u001b[49m\u001b[43m,\u001b[49m\u001b[43momega_z\u001b[49m\u001b[43m,\u001b[49m\u001b[43m \u001b[49m\u001b[43mOmega_Rabi\u001b[49m\u001b[43m,\u001b[49m\u001b[43m \u001b[49m\u001b[43mdipole\u001b[49m\u001b[43m,\u001b[49m\u001b[43m \u001b[49m\u001b[43mc\u001b[49m\u001b[43m,\u001b[49m\u001b[43m \u001b[49m\u001b[43mxi_y\u001b[49m\u001b[43m,\u001b[49m\u001b[43m \u001b[49m\u001b[43mxi_x\u001b[49m\u001b[43m,\u001b[49m\u001b[43mGamma_matrix\u001b[49m\u001b[43m,\u001b[49m\u001b[43mJ_matrix\u001b[49m\u001b[43m)\u001b[49m\n\u001b[32m    550\u001b[39m current_state = spin_evolution[step-\u001b[32m1\u001b[39m] + dt * midpoint_derivative\n\u001b[32m    552\u001b[39m \u001b[38;5;66;03m# Final state after iterations\u001b[39;00m\n",
      "\u001b[36mFile \u001b[39m\u001b[32m~/Documents/GitHub/Truncated-Wigner/lib.py:395\u001b[39m, in \u001b[36mSpinDerivative\u001b[39m\u001b[34m(spins_current, positions, omega, omega_z, Omega_Rabi, dipole, c, xi_y, xi_x, Gamma_matrix, J_matrix)\u001b[39m\n\u001b[32m    393\u001b[39m derivatives[:, \u001b[32m0\u001b[39m] = d_dt_sx(\u001b[38;5;28;01mNone\u001b[39;00m, omega_z, J_matrix, Gamma_matrix, xi_x, spins_current[:, \u001b[32m0\u001b[39m], spins_current[:, \u001b[32m1\u001b[39m], spins_current[:, \u001b[32m2\u001b[39m])\n\u001b[32m    394\u001b[39m derivatives[:, \u001b[32m1\u001b[39m] = d_dt_sy(\u001b[38;5;28;01mNone\u001b[39;00m, omega_z, Omega_Rabi, J_matrix, Gamma_matrix, xi_y, spins_current[:, \u001b[32m0\u001b[39m], spins_current[:, \u001b[32m1\u001b[39m], spins_current[:, \u001b[32m2\u001b[39m])\n\u001b[32m--> \u001b[39m\u001b[32m395\u001b[39m derivatives[:, \u001b[32m2\u001b[39m] = \u001b[43md_dt_sz\u001b[49m\u001b[43m(\u001b[49m\u001b[38;5;28;43;01mNone\u001b[39;49;00m\u001b[43m,\u001b[49m\u001b[43m \u001b[49m\u001b[43mOmega_Rabi\u001b[49m\u001b[43m,\u001b[49m\u001b[43m \u001b[49m\u001b[43mJ_matrix\u001b[49m\u001b[43m,\u001b[49m\u001b[43m \u001b[49m\u001b[43mGamma_matrix\u001b[49m\u001b[43m,\u001b[49m\u001b[43m \u001b[49m\u001b[43mxi_x\u001b[49m\u001b[43m,\u001b[49m\u001b[43m \u001b[49m\u001b[43mxi_y\u001b[49m\u001b[43m,\u001b[49m\u001b[43m \u001b[49m\u001b[43mspins_current\u001b[49m\u001b[43m[\u001b[49m\u001b[43m:\u001b[49m\u001b[43m,\u001b[49m\u001b[43m \u001b[49m\u001b[32;43m0\u001b[39;49m\u001b[43m]\u001b[49m\u001b[43m,\u001b[49m\u001b[43m \u001b[49m\u001b[43mspins_current\u001b[49m\u001b[43m[\u001b[49m\u001b[43m:\u001b[49m\u001b[43m,\u001b[49m\u001b[43m \u001b[49m\u001b[32;43m1\u001b[39;49m\u001b[43m]\u001b[49m\u001b[43m,\u001b[49m\u001b[43m \u001b[49m\u001b[43mspins_current\u001b[49m\u001b[43m[\u001b[49m\u001b[43m:\u001b[49m\u001b[43m,\u001b[49m\u001b[43m \u001b[49m\u001b[32;43m2\u001b[39;49m\u001b[43m]\u001b[49m\u001b[43m)\u001b[49m\n\u001b[32m    398\u001b[39m \u001b[38;5;28;01mreturn\u001b[39;00m derivatives\n",
      "\u001b[36mFile \u001b[39m\u001b[32m~/Documents/GitHub/Truncated-Wigner/lib.py:157\u001b[39m, in \u001b[36md_dt_sz\u001b[39m\u001b[34m(i, Omega, J, Gamma, xi_x, xi_y, s_x, s_y, s_z)\u001b[39m\n\u001b[32m    148\u001b[39m sx_sy_product = s_x[:, np.newaxis] * s_y[np.newaxis, :]  \u001b[38;5;66;03m# Shape (n, n)\u001b[39;00m\n\u001b[32m    151\u001b[39m \u001b[38;5;66;03m# Calculate the J term for all spins at once\u001b[39;00m\n\u001b[32m    152\u001b[39m \u001b[38;5;66;03m# This computes the coupling term in the equation of motion for s_z\u001b[39;00m\n\u001b[32m    153\u001b[39m \u001b[38;5;66;03m# For each spin i, it calculates the sum over all spins j of:\u001b[39;00m\n\u001b[32m    154\u001b[39m \u001b[38;5;66;03m# J[i,j] * (s_y[i]*s_x[j] - s_x[i]*s_y[j])\u001b[39;00m\n\u001b[32m    155\u001b[39m \u001b[38;5;66;03m# The matrix multiplication with J and element-wise difference of the outer products\u001b[39;00m\n\u001b[32m    156\u001b[39m \u001b[38;5;66;03m# is summed along axis=1 to get the total coupling effect on each spin\u001b[39;00m\n\u001b[32m--> \u001b[39m\u001b[32m157\u001b[39m j_term = \u001b[43mnp\u001b[49m\u001b[43m.\u001b[49m\u001b[43msum\u001b[49m\u001b[43m(\u001b[49m\u001b[43mJ\u001b[49m\u001b[43m \u001b[49m\u001b[43m*\u001b[49m\u001b[43m \u001b[49m\u001b[43m(\u001b[49m\u001b[43msy_sx_product\u001b[49m\u001b[43m \u001b[49m\u001b[43m-\u001b[49m\u001b[43m \u001b[49m\u001b[43msx_sy_product\u001b[49m\u001b[43m)\u001b[49m\u001b[43m,\u001b[49m\u001b[43m \u001b[49m\u001b[43maxis\u001b[49m\u001b[43m=\u001b[49m\u001b[32;43m1\u001b[39;49m\u001b[43m)\u001b[49m\n\u001b[32m    158\u001b[39m j_term = np.real(j_term)  \u001b[38;5;66;03m# Take the norm\u001b[39;00m\n\u001b[32m    160\u001b[39m \u001b[38;5;66;03m# Third term: Gamma term - vectorized computation\u001b[39;00m\n\u001b[32m    161\u001b[39m \u001b[38;5;66;03m# Calculate s_x[i] * s_x[j] + s_y[i] * s_y[j] for all i,j pairs\u001b[39;00m\n",
      "\u001b[36mFile \u001b[39m\u001b[32m/Library/Frameworks/Python.framework/Versions/3.13/lib/python3.13/site-packages/numpy/core/fromnumeric.py:2172\u001b[39m, in \u001b[36m_sum_dispatcher\u001b[39m\u001b[34m(a, axis, dtype, out, keepdims, initial, where)\u001b[39m\n\u001b[32m   2102\u001b[39m \u001b[38;5;250m    \u001b[39m\u001b[33;03m\"\"\"\u001b[39;00m\n\u001b[32m   2103\u001b[39m \u001b[33;03m    Clip (limit) the values in an array.\u001b[39;00m\n\u001b[32m   2104\u001b[39m \n\u001b[32m   (...)\u001b[39m\u001b[32m   2167\u001b[39m \n\u001b[32m   2168\u001b[39m \u001b[33;03m    \"\"\"\u001b[39;00m\n\u001b[32m   2169\u001b[39m     \u001b[38;5;28;01mreturn\u001b[39;00m _wrapfunc(a, \u001b[33m'\u001b[39m\u001b[33mclip\u001b[39m\u001b[33m'\u001b[39m, a_min, a_max, out=out, **kwargs)\n\u001b[32m-> \u001b[39m\u001b[32m2172\u001b[39m \u001b[38;5;28;01mdef\u001b[39;00m\u001b[38;5;250m \u001b[39m\u001b[34m_sum_dispatcher\u001b[39m(a, axis=\u001b[38;5;28;01mNone\u001b[39;00m, dtype=\u001b[38;5;28;01mNone\u001b[39;00m, out=\u001b[38;5;28;01mNone\u001b[39;00m, keepdims=\u001b[38;5;28;01mNone\u001b[39;00m,\n\u001b[32m   2173\u001b[39m                     initial=\u001b[38;5;28;01mNone\u001b[39;00m, where=\u001b[38;5;28;01mNone\u001b[39;00m):\n\u001b[32m   2174\u001b[39m     \u001b[38;5;28;01mreturn\u001b[39;00m (a, out)\n\u001b[32m   2177\u001b[39m \u001b[38;5;129m@array_function_dispatch\u001b[39m(_sum_dispatcher)\n\u001b[32m   2178\u001b[39m \u001b[38;5;28;01mdef\u001b[39;00m\u001b[38;5;250m \u001b[39m\u001b[34msum\u001b[39m(a, axis=\u001b[38;5;28;01mNone\u001b[39;00m, dtype=\u001b[38;5;28;01mNone\u001b[39;00m, out=\u001b[38;5;28;01mNone\u001b[39;00m, keepdims=np._NoValue,\n\u001b[32m   2179\u001b[39m         initial=np._NoValue, where=np._NoValue):\n",
      "\u001b[31mKeyboardInterrupt\u001b[39m: "
     ]
    }
   ],
   "source": [
    "num_particles=10\n",
    "spacing_factor=1/10\n",
    "t_max_factor=1\n",
    "num_steps=1000\n",
    "omega_z=0\n",
    "Omega_Rabi=0\n",
    "num_simulations=10000\n",
    "listNumparticles=None\n",
    "dipole_direction=(1/np.sqrt(2))*np.array([1, 1j, 0])\n",
    "atomic_dipole_moment = 1\n",
    "Gamma_0 = 2*np.pi *6.065 *1e6\n",
    "\n",
    "\n",
    "# Remove the comma-separated parameters at the top of the cell\n",
    "# and just keep the function call with proper parameters\n",
    "magnetizations_list = compute_spin_dynamics(num_particles,\n",
    "                                            spacing_factor,\n",
    "                                            Gamma_0,\n",
    "                                            t_max_factor,\n",
    "                                            num_steps,\n",
    "                                            omega_z,\n",
    "                                            Omega_Rabi,\n",
    "                                            num_simulations,\n",
    "                                            dipole_direction,\n",
    "                                            listNumparticles, \n",
    "                                            atomic_dipole_moment)\n"
   ]
  },
  {
   "cell_type": "code",
   "execution_count": null,
   "metadata": {},
   "outputs": [],
   "source": []
  },
  {
   "cell_type": "code",
   "execution_count": null,
   "metadata": {},
   "outputs": [],
   "source": []
  },
  {
   "cell_type": "code",
   "execution_count": null,
   "metadata": {},
   "outputs": [],
   "source": []
  },
  {
   "cell_type": "code",
   "execution_count": null,
   "metadata": {},
   "outputs": [],
   "source": []
  },
  {
   "cell_type": "code",
   "execution_count": null,
   "metadata": {},
   "outputs": [],
   "source": []
  }
 ],
 "metadata": {
  "kernelspec": {
   "display_name": "Python 3",
   "language": "python",
   "name": "python3"
  },
  "language_info": {
   "codemirror_mode": {
    "name": "ipython",
    "version": 3
   },
   "file_extension": ".py",
   "mimetype": "text/x-python",
   "name": "python",
   "nbconvert_exporter": "python",
   "pygments_lexer": "ipython3",
   "version": "3.13.2"
  }
 },
 "nbformat": 4,
 "nbformat_minor": 2
}
