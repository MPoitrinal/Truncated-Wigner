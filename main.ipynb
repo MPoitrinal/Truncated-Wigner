{
 "cells": [
  {
   "cell_type": "code",
   "execution_count": 2,
   "metadata": {},
   "outputs": [],
   "source": [
    "from lib_plot import plot_R_t\n",
    "from lib_sim import compute_spin_dynamics\n",
    "import numpy as np"
   ]
  },
  {
   "cell_type": "code",
   "execution_count": 3,
   "metadata": {},
   "outputs": [
    {
     "name": "stdout",
     "output_type": "stream",
     "text": [
      "[0.70710678+0.j         0.        +0.70710678j 0.        +0.j        ]\n",
      "J matrix and Gamma matrix are computed\n"
     ]
    },
    {
     "name": "stderr",
     "output_type": "stream",
     "text": [
      "Running simulations:   0%|          | 0/10000 [00:00<?, ?it/s]/Users/martinpoitrinsl/Documents/GitHub/Truncated-Wigner/lib_sim.py:250: ComplexWarning: Casting complex values to real discards the imaginary part\n",
      "  xi_x[i] = np.sum(nu[i, :] * noise_x)\n",
      "/Users/martinpoitrinsl/Documents/GitHub/Truncated-Wigner/lib_sim.py:251: ComplexWarning: Casting complex values to real discards the imaginary part\n",
      "  xi_y[i] = np.sum(nu[i, :] * noise_y)\n",
      "Running simulations:   0%|          | 0/10000 [00:00<?, ?it/s]\n"
     ]
    },
    {
     "ename": "NameError",
     "evalue": "name 'Omega' is not defined",
     "output_type": "error",
     "traceback": [
      "\u001b[31m---------------------------------------------------------------------------\u001b[39m",
      "\u001b[31mNameError\u001b[39m                                 Traceback (most recent call last)",
      "\u001b[36mCell\u001b[39m\u001b[36m \u001b[39m\u001b[32mIn[3]\u001b[39m\u001b[32m, line 16\u001b[39m\n\u001b[32m     11\u001b[39m Gamma_0 = \u001b[32m2\u001b[39m*np.pi *\u001b[32m6.065\u001b[39m *\u001b[32m1e6\u001b[39m\n\u001b[32m     14\u001b[39m \u001b[38;5;66;03m# Remove the comma-separated parameters at the top of the cell\u001b[39;00m\n\u001b[32m     15\u001b[39m \u001b[38;5;66;03m# and just keep the function call with proper parameters\u001b[39;00m\n\u001b[32m---> \u001b[39m\u001b[32m16\u001b[39m magnetizations_list, Gammas, J_matrices = \u001b[43mcompute_spin_dynamics\u001b[49m\u001b[43m(\u001b[49m\u001b[43mnum_particles\u001b[49m\u001b[43m,\u001b[49m\n\u001b[32m     17\u001b[39m \u001b[43m                                            \u001b[49m\u001b[43mspacing_factor\u001b[49m\u001b[43m,\u001b[49m\n\u001b[32m     18\u001b[39m \u001b[43m                                            \u001b[49m\u001b[43mGamma_0\u001b[49m\u001b[43m,\u001b[49m\n\u001b[32m     19\u001b[39m \u001b[43m                                            \u001b[49m\u001b[43mt_max_factor\u001b[49m\u001b[43m,\u001b[49m\n\u001b[32m     20\u001b[39m \u001b[43m                                            \u001b[49m\u001b[43mnum_steps\u001b[49m\u001b[43m,\u001b[49m\n\u001b[32m     21\u001b[39m \u001b[43m                                            \u001b[49m\u001b[43momega_z\u001b[49m\u001b[43m,\u001b[49m\n\u001b[32m     22\u001b[39m \u001b[43m                                            \u001b[49m\u001b[43mOmega_Rabi\u001b[49m\u001b[43m,\u001b[49m\n\u001b[32m     23\u001b[39m \u001b[43m                                            \u001b[49m\u001b[43mnum_simulations\u001b[49m\u001b[43m,\u001b[49m\n\u001b[32m     24\u001b[39m \u001b[43m                                            \u001b[49m\u001b[43mdipole_direction\u001b[49m\u001b[43m,\u001b[49m\n\u001b[32m     25\u001b[39m \u001b[43m                                            \u001b[49m\u001b[43mlistNumparticles\u001b[49m\u001b[43m,\u001b[49m\u001b[43m \u001b[49m\n\u001b[32m     26\u001b[39m \u001b[43m                                            \u001b[49m\u001b[43matomic_dipole_moment\u001b[49m\u001b[43m)\u001b[49m\n",
      "\u001b[36mFile \u001b[39m\u001b[32m~/Documents/GitHub/Truncated-Wigner/lib_sim.py:560\u001b[39m, in \u001b[36mcompute_spin_dynamics\u001b[39m\u001b[34m(num_particles, spacing_factor, Gamma_0, t_max_factor, num_steps, omega_z, Omega_Rabi, num_simulations, dipole_direction, listNumparticles, atomic_dipole_moment)\u001b[39m\n\u001b[32m    557\u001b[39m \u001b[38;5;66;03m# Iterate until the norm stabilizes within 0.1% of the initial norm\u001b[39;00m\n\u001b[32m    558\u001b[39m midpoint_state = current_state\n\u001b[32m--> \u001b[39m\u001b[32m560\u001b[39m midpoint_state = current_state + dt * \u001b[43mSpinDerivative\u001b[49m\u001b[43m(\u001b[49m\u001b[43mcurrent_state\u001b[49m\u001b[43m,\u001b[49m\u001b[43m \u001b[49m\u001b[43mpositions\u001b[49m\u001b[43m,\u001b[49m\u001b[43m \u001b[49m\u001b[43momega\u001b[49m\u001b[43m,\u001b[49m\u001b[43momega_z\u001b[49m\u001b[43m,\u001b[49m\u001b[43m \u001b[49m\u001b[43mOmega_Rabi\u001b[49m\u001b[43m,\u001b[49m\u001b[43m \u001b[49m\u001b[43mdipole\u001b[49m\u001b[43m,\u001b[49m\u001b[43m \u001b[49m\u001b[43mc\u001b[49m\u001b[43m,\u001b[49m\u001b[43m \u001b[49m\u001b[43mxi_y\u001b[49m\u001b[43m,\u001b[49m\u001b[43m \u001b[49m\u001b[43mxi_x\u001b[49m\u001b[43m,\u001b[49m\u001b[43mGamma_matrix\u001b[49m\u001b[43m,\u001b[49m\u001b[43mJ_matrix\u001b[49m\u001b[43m)\u001b[49m\n\u001b[32m    561\u001b[39m midpoint_derivative = SpinDerivative((midpoint_state+current_state)/\u001b[32m2\u001b[39m, positions, omega,omega_z, Omega_Rabi, dipole, c, xi_y, xi_x,Gamma_matrix,J_matrix)\n\u001b[32m    563\u001b[39m current_state = spin_evolution[step-\u001b[32m1\u001b[39m] + dt * midpoint_derivative\n",
      "\u001b[36mFile \u001b[39m\u001b[32m~/Documents/GitHub/Truncated-Wigner/lib_sim.py:407\u001b[39m, in \u001b[36mSpinDerivative\u001b[39m\u001b[34m(spins_current, positions, omega, omega_z, Omega_Rabi, dipole, c, xi_y, xi_x, Gamma_matrix, J_matrix)\u001b[39m\n\u001b[32m    403\u001b[39m \u001b[38;5;66;03m# Generate noise arrays for all particles at once    \u001b[39;00m\n\u001b[32m    404\u001b[39m \u001b[38;5;66;03m# Calculate derivatives for all spins at once\u001b[39;00m\n\u001b[32m    406\u001b[39m derivatives[:, \u001b[32m0\u001b[39m] = d_dt_sx( omega_z,Omega_Rabi, J_matrix, Gamma_matrix, xi_x, spins_current[:, \u001b[32m0\u001b[39m], spins_current[:, \u001b[32m1\u001b[39m], spins_current[:, \u001b[32m2\u001b[39m])\n\u001b[32m--> \u001b[39m\u001b[32m407\u001b[39m derivatives[:, \u001b[32m1\u001b[39m] = \u001b[43md_dt_sy\u001b[49m\u001b[43m(\u001b[49m\u001b[43momega_z\u001b[49m\u001b[43m,\u001b[49m\u001b[43m \u001b[49m\u001b[43mOmega_Rabi\u001b[49m\u001b[43m,\u001b[49m\u001b[43m \u001b[49m\u001b[43mJ_matrix\u001b[49m\u001b[43m,\u001b[49m\u001b[43m \u001b[49m\u001b[43mGamma_matrix\u001b[49m\u001b[43m,\u001b[49m\u001b[43m \u001b[49m\u001b[43mxi_y\u001b[49m\u001b[43m,\u001b[49m\u001b[43m \u001b[49m\u001b[43mspins_current\u001b[49m\u001b[43m[\u001b[49m\u001b[43m:\u001b[49m\u001b[43m,\u001b[49m\u001b[43m \u001b[49m\u001b[32;43m0\u001b[39;49m\u001b[43m]\u001b[49m\u001b[43m,\u001b[49m\u001b[43m \u001b[49m\u001b[43mspins_current\u001b[49m\u001b[43m[\u001b[49m\u001b[43m:\u001b[49m\u001b[43m,\u001b[49m\u001b[43m \u001b[49m\u001b[32;43m1\u001b[39;49m\u001b[43m]\u001b[49m\u001b[43m,\u001b[49m\u001b[43m \u001b[49m\u001b[43mspins_current\u001b[49m\u001b[43m[\u001b[49m\u001b[43m:\u001b[49m\u001b[43m,\u001b[49m\u001b[43m \u001b[49m\u001b[32;43m2\u001b[39;49m\u001b[43m]\u001b[49m\u001b[43m)\u001b[49m\n\u001b[32m    408\u001b[39m derivatives[:, \u001b[32m2\u001b[39m] = d_dt_sz( Omega_Rabi, J_matrix, Gamma_matrix, xi_x, xi_y, spins_current[:, \u001b[32m0\u001b[39m], spins_current[:, \u001b[32m1\u001b[39m], spins_current[:, \u001b[32m2\u001b[39m])\n\u001b[32m    411\u001b[39m \u001b[38;5;28;01mreturn\u001b[39;00m derivatives\n",
      "\u001b[36mFile \u001b[39m\u001b[32m~/Documents/GitHub/Truncated-Wigner/lib_sim.py:97\u001b[39m, in \u001b[36md_dt_sy\u001b[39m\u001b[34m(omega_z, Omega_rabi, J, Gamma, xi_y, s_x, s_y, s_z)\u001b[39m\n\u001b[32m     94\u001b[39m derivatives = \u001b[32m2\u001b[39m * omega_z * s_x\n\u001b[32m     96\u001b[39m \u001b[38;5;66;03m# Second term: -2*Omega*s_z\u001b[39;00m\n\u001b[32m---> \u001b[39m\u001b[32m97\u001b[39m derivatives -= \u001b[32m2\u001b[39m * \u001b[43mOmega\u001b[49m * s_z\n\u001b[32m     99\u001b[39m \u001b[38;5;66;03m# Third term: -s_z[i]*sum_j J[i,j]*s_x[j] for each i\u001b[39;00m\n\u001b[32m    100\u001b[39m \u001b[38;5;66;03m# Compute J*s_x for all i (matrix-vector product)\u001b[39;00m\n\u001b[32m    101\u001b[39m j_sum = J @ s_x\n",
      "\u001b[31mNameError\u001b[39m: name 'Omega' is not defined"
     ]
    }
   ],
   "source": [
    "num_particles=10\n",
    "spacing_factor=1/10\n",
    "t_max_factor=1\n",
    "num_steps=1000\n",
    "omega_z=0\n",
    "Omega_Rabi=0\n",
    "num_simulations=10000\n",
    "listNumparticles=[10]\n",
    "dipole_direction=(1/np.sqrt(2))*np.array([1, 1j, 0])\n",
    "atomic_dipole_moment = 1\n",
    "Gamma_0 = 2*np.pi *6.065 *1e6\n",
    "\n",
    "\n",
    "# Remove the comma-separated parameters at the top of the cell\n",
    "# and just keep the function call with proper parameters\n",
    "magnetizations_list, Gammas, J_matrices = compute_spin_dynamics(num_particles,\n",
    "                                            spacing_factor,\n",
    "                                            Gamma_0,\n",
    "                                            t_max_factor,\n",
    "                                            num_steps,\n",
    "                                            omega_z,\n",
    "                                            Omega_Rabi,\n",
    "                                            num_simulations,\n",
    "                                            dipole_direction,\n",
    "                                            listNumparticles, \n",
    "                                            atomic_dipole_moment)\n"
   ]
  },
  {
   "cell_type": "code",
   "execution_count": null,
   "metadata": {},
   "outputs": [],
   "source": []
  },
  {
   "cell_type": "code",
   "execution_count": null,
   "metadata": {},
   "outputs": [],
   "source": []
  },
  {
   "cell_type": "code",
   "execution_count": null,
   "metadata": {},
   "outputs": [],
   "source": []
  },
  {
   "cell_type": "code",
   "execution_count": null,
   "metadata": {},
   "outputs": [],
   "source": []
  },
  {
   "cell_type": "code",
   "execution_count": null,
   "metadata": {},
   "outputs": [],
   "source": []
  }
 ],
 "metadata": {
  "kernelspec": {
   "display_name": "Python 3",
   "language": "python",
   "name": "python3"
  },
  "language_info": {
   "codemirror_mode": {
    "name": "ipython",
    "version": 3
   },
   "file_extension": ".py",
   "mimetype": "text/x-python",
   "name": "python",
   "nbconvert_exporter": "python",
   "pygments_lexer": "ipython3",
   "version": "3.13.2"
  }
 },
 "nbformat": 4,
 "nbformat_minor": 2
}
