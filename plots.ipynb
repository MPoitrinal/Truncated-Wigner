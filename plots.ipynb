{
 "cells": [
  {
   "cell_type": "code",
   "execution_count": 1,
   "metadata": {},
   "outputs": [],
   "source": [
    "from lib import compute_spin_dynamics\n",
    "import numpy as np"
   ]
  },
  {
   "cell_type": "code",
   "execution_count": null,
   "metadata": {},
   "outputs": [
    {
     "name": "stdout",
     "output_type": "stream",
     "text": [
      "[0.70710678+0.j         0.        +0.70710678j 0.        +0.j        ]\n",
      "[0.70710678+0.j         0.        +0.70710678j 0.        +0.j        ]\n",
      "J matrix and Gamma matrix are computed\n"
     ]
    },
    {
     "name": "stderr",
     "output_type": "stream",
     "text": [
      "Running simulations:   0%|          | 0/10000 [00:00<?, ?it/s]/Users/martinpoitrinsl/Documents/GitHub/Truncated-Wigner/lib.py:238: ComplexWarning: Casting complex values to real discards the imaginary part\n",
      "  xi_x[i] = np.sum(nu[i, :] * noise_x)\n",
      "/Users/martinpoitrinsl/Documents/GitHub/Truncated-Wigner/lib.py:239: ComplexWarning: Casting complex values to real discards the imaginary part\n",
      "  xi_y[i] = np.sum(nu[i, :] * noise_y)\n",
      "/Users/martinpoitrinsl/Documents/GitHub/Truncated-Wigner/lib.py:50: RuntimeWarning: overflow encountered in multiply\n",
      "  derivatives += s_z * j_sum\n",
      "/Users/martinpoitrinsl/Documents/GitHub/Truncated-Wigner/lib.py:51: RuntimeWarning: overflow encountered in multiply\n",
      "  derivatives += 0.5 * s_z * gamma_sum\n",
      "/Users/martinpoitrinsl/Documents/GitHub/Truncated-Wigner/lib.py:51: RuntimeWarning: invalid value encountered in add\n",
      "  derivatives += 0.5 * s_z * gamma_sum\n",
      "/Users/martinpoitrinsl/Documents/GitHub/Truncated-Wigner/lib.py:97: RuntimeWarning: overflow encountered in multiply\n",
      "  derivatives -= s_z * j_sum\n",
      "/Users/martinpoitrinsl/Documents/GitHub/Truncated-Wigner/lib.py:98: RuntimeWarning: overflow encountered in multiply\n",
      "  derivatives += 0.5 * s_z * gamma_sum\n",
      "/Users/martinpoitrinsl/Documents/GitHub/Truncated-Wigner/lib.py:98: RuntimeWarning: invalid value encountered in add\n",
      "  derivatives += 0.5 * s_z * gamma_sum\n",
      "/Users/martinpoitrinsl/Documents/GitHub/Truncated-Wigner/lib.py:140: RuntimeWarning: overflow encountered in multiply\n",
      "  sy_sx_product = s_y_outer * s_x_outer  # Shape (n, n)\n",
      "/Users/martinpoitrinsl/Documents/GitHub/Truncated-Wigner/lib.py:148: RuntimeWarning: overflow encountered in multiply\n",
      "  sx_sy_product = s_x[:, np.newaxis] * s_y[np.newaxis, :]  # Shape (n, n)\n",
      "/Users/martinpoitrinsl/Documents/GitHub/Truncated-Wigner/lib.py:157: RuntimeWarning: invalid value encountered in subtract\n",
      "  j_term = np.sum(J * (sy_sx_product - sx_sy_product), axis=1)\n",
      "/Users/martinpoitrinsl/Documents/GitHub/Truncated-Wigner/lib.py:157: RuntimeWarning: invalid value encountered in multiply\n",
      "  j_term = np.sum(J * (sy_sx_product - sx_sy_product), axis=1)\n",
      "/Library/Frameworks/Python.framework/Versions/3.13/lib/python3.13/site-packages/numpy/core/fromnumeric.py:88: RuntimeWarning: invalid value encountered in reduce\n",
      "  return ufunc.reduce(obj, axis, dtype, out, **passkwargs)\n",
      "/Users/martinpoitrinsl/Documents/GitHub/Truncated-Wigner/lib.py:162: RuntimeWarning: overflow encountered in multiply\n",
      "  sx_sx_product = s_x[:, np.newaxis] * s_x[np.newaxis, :]  # Shape (n, n)\n",
      "/Users/martinpoitrinsl/Documents/GitHub/Truncated-Wigner/lib.py:163: RuntimeWarning: overflow encountered in multiply\n",
      "  sy_sy_product = s_y[:, np.newaxis] * s_y[np.newaxis, :]  # Shape (n, n)\n",
      "/Users/martinpoitrinsl/Documents/GitHub/Truncated-Wigner/lib.py:165: RuntimeWarning: invalid value encountered in add\n",
      "  intermed = sx_sx_product+sy_sy_product\n",
      "/Users/martinpoitrinsl/Documents/GitHub/Truncated-Wigner/lib.py:168: RuntimeWarning: invalid value encountered in multiply\n",
      "  gamma_term = 0.5 * np.sum(Gamma * (intermed), axis=1)\n",
      "/Users/martinpoitrinsl/Documents/GitHub/Truncated-Wigner/lib.py:37: RuntimeWarning: invalid value encountered in multiply\n",
      "  derivatives = -2 * omega_z * s_y\n",
      "/Users/martinpoitrinsl/Documents/GitHub/Truncated-Wigner/lib.py:41: RuntimeWarning: invalid value encountered in matmul\n",
      "  j_sum = J @ s_y\n",
      "/Users/martinpoitrinsl/Documents/GitHub/Truncated-Wigner/lib.py:46: RuntimeWarning: invalid value encountered in matmul\n",
      "  gamma_sum = Gamma @ s_x\n",
      "/Users/martinpoitrinsl/Documents/GitHub/Truncated-Wigner/lib.py:81: RuntimeWarning: invalid value encountered in multiply\n",
      "  derivatives = 2 * omega_z * s_x\n",
      "/Users/martinpoitrinsl/Documents/GitHub/Truncated-Wigner/lib.py:88: RuntimeWarning: invalid value encountered in matmul\n",
      "  j_sum = J @ s_x\n",
      "/Users/martinpoitrinsl/Documents/GitHub/Truncated-Wigner/lib.py:93: RuntimeWarning: invalid value encountered in matmul\n",
      "  gamma_sum = Gamma @ s_y\n",
      "/Users/martinpoitrinsl/Documents/GitHub/Truncated-Wigner/lib.py:128: RuntimeWarning: invalid value encountered in multiply\n",
      "  derivatives = 2 * Omega * s_y\n",
      "Running simulations:   1%|          | 92/10000 [00:08<15:32, 10.62it/s]"
     ]
    }
   ],
   "source": [
    "num_particles=10\n",
    "spacing_factor=1/10\n",
    "t_max_factor=1\n",
    "num_steps=1000\n",
    "omega_z=0\n",
    "Omega_Rabi=0\n",
    "num_simulations=10000\n",
    "listNumparticles=None\n",
    "dipole_direction=(1/np.sqrt(2))*np.array([1, 1j, 0])\n",
    "atomic_dipole_moment = 1\n",
    "Gamma_0 = 2*np.pi *6.065 *1e6\n",
    "\n",
    "\n",
    "# Remove the comma-separated parameters at the top of the cell\n",
    "# and just keep the function call with proper parameters\n",
    "magnetizations_list = compute_spin_dynamics(num_particles,\n",
    "                                            spacing_factor,\n",
    "                                            Gamma_0,\n",
    "                                            t_max_factor,\n",
    "                                            num_steps,\n",
    "                                            omega_z,\n",
    "                                            Omega_Rabi,\n",
    "                                            num_simulations,\n",
    "                                            dipole_direction,\n",
    "                                            listNumparticles, \n",
    "                                            atomic_dipole_moment)\n"
   ]
  },
  {
   "cell_type": "code",
   "execution_count": null,
   "metadata": {},
   "outputs": [],
   "source": []
  },
  {
   "cell_type": "code",
   "execution_count": null,
   "metadata": {},
   "outputs": [],
   "source": []
  },
  {
   "cell_type": "code",
   "execution_count": null,
   "metadata": {},
   "outputs": [],
   "source": []
  },
  {
   "cell_type": "code",
   "execution_count": null,
   "metadata": {},
   "outputs": [],
   "source": []
  },
  {
   "cell_type": "code",
   "execution_count": null,
   "metadata": {},
   "outputs": [],
   "source": []
  }
 ],
 "metadata": {
  "kernelspec": {
   "display_name": "Python 3",
   "language": "python",
   "name": "python3"
  },
  "language_info": {
   "codemirror_mode": {
    "name": "ipython",
    "version": 3
   },
   "file_extension": ".py",
   "mimetype": "text/x-python",
   "name": "python",
   "nbconvert_exporter": "python",
   "pygments_lexer": "ipython3",
   "version": "3.13.2"
  }
 },
 "nbformat": 4,
 "nbformat_minor": 2
}
